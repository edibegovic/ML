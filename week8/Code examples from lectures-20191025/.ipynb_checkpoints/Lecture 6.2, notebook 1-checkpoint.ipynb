{
 "cells": [
  {
   "cell_type": "markdown",
   "metadata": {},
   "source": [
    "# Lecture 6.2, notebook 1"
   ]
  },
  {
   "cell_type": "markdown",
   "metadata": {},
   "source": [
    "There is the notebook from last lecture.\n",
    "\n",
    "Let us try three things:\n",
    "* Change the size of the hidden layer\n",
    "* Change the to the Adam optimizer with adaptive learning rate\n",
    "* Change the activation function from tanh to a ReLU"
   ]
  },
  {
   "cell_type": "code",
   "execution_count": 1,
   "metadata": {},
   "outputs": [],
   "source": [
    "import numpy as np\n",
    "import tensorflow as tf\n",
    "import matplotlib.pyplot as plt\n",
    "%matplotlib inline"
   ]
  },
  {
   "cell_type": "code",
   "execution_count": 2,
   "metadata": {},
   "outputs": [],
   "source": [
    "x_train = np.array([0, 0.1, 0.2, 0.3, 0.4, 0.5, 0.6, 0.7, 0.8, 0.9, 1])\n",
    "t_train = np.array([0.15, -0.16, -0.61, -0.86, -1.02, -0.44, 0.16, 0.05, 0.45, 1.39, 0.86])\n",
    "\n",
    "# Make the data column vectors\n",
    "x_train = x_train[:, np.newaxis]\n",
    "t_train = t_train[:, np.newaxis]"
   ]
  },
  {
   "cell_type": "code",
   "execution_count": 3,
   "metadata": {},
   "outputs": [
    {
     "name": "stdout",
     "output_type": "stream",
     "text": [
      "WARNING:tensorflow:From /Users/sami/anaconda2/lib/python2.7/site-packages/tensorflow/python/ops/losses/losses_impl.py:121: where (from tensorflow.python.ops.array_ops) is deprecated and will be removed in a future version.\n",
      "Instructions for updating:\n",
      "Use tf.where in 2.0, which has the same broadcast rule as np.where\n"
     ]
    }
   ],
   "source": [
    "# Input and output\n",
    "x = tf.placeholder(tf.float32, [None, 1])\n",
    "t = tf.placeholder(tf.float32, [None, 1])\n",
    "\n",
    "# Defined the model parameters\n",
    "hidden = 500\n",
    "W1 = tf.get_variable(\"W1\", [1, hidden], initializer=tf.random_normal_initializer)\n",
    "b1 = tf.get_variable(\"b1\", [hidden], initializer=tf.random_normal_initializer)\n",
    "W2 = tf.get_variable(\"W2\", [hidden, 1], initializer=tf.random_normal_initializer)\n",
    "b2 = tf.get_variable(\"b2\", [1], initializer=tf.random_normal_initializer)\n",
    "    \n",
    "# Construct model\n",
    "z1 = tf.nn.relu(tf.matmul(x, W1) + b1)\n",
    "y = tf.matmul(z1, W2) + b2\n",
    "\n",
    "# Difine the loss function\n",
    "loss = tf.losses.mean_squared_error(labels=t, predictions=y)\n",
    "\n",
    "# Define the optimizer operation\n",
    "learning_rate = tf.placeholder(tf.float32)\n",
    "#optimizer = tf.train.GradientDescentOptimizer(learning_rate = learning_rate).minimize(loss)\n",
    "optimizer = tf.train.AdamOptimizer(learning_rate = learning_rate).minimize(loss)"
   ]
  },
  {
   "cell_type": "code",
   "execution_count": 4,
   "metadata": {},
   "outputs": [
    {
     "name": "stdout",
     "output_type": "stream",
     "text": [
      "('Epoch: ', 0, 'loss =', 465.4193)\n",
      "('Epoch: ', 1000, 'loss =', 0.06929154)\n",
      "('Epoch: ', 2000, 'loss =', 0.03978102)\n",
      "('Epoch: ', 3000, 'loss =', 0.023776306)\n",
      "('Epoch: ', 4000, 'loss =', 0.013289373)\n",
      "('Epoch: ', 5000, 'loss =', 0.009795088)\n",
      "('Epoch: ', 6000, 'loss =', 0.0069640283)\n",
      "('Epoch: ', 7000, 'loss =', 0.0040134965)\n",
      "('Epoch: ', 8000, 'loss =', 0.0016389757)\n",
      "('Epoch: ', 9000, 'loss =', 0.00037662595)\n",
      "('Epoch: ', 10000, 'loss =', 3.5345667e-05)\n",
      "('Epoch: ', 11000, 'loss =', 1.781777e-05)\n",
      "('Epoch: ', 12000, 'loss =', 8.875149e-09)\n",
      "('Epoch: ', 13000, 'loss =', 4.804262e-06)\n",
      "('Epoch: ', 14000, 'loss =', 3.9149808e-12)\n",
      "('Epoch: ', 15000, 'loss =', 9.5723784e-09)\n",
      "('Epoch: ', 16000, 'loss =', 8.8533916e-11)\n",
      "('Epoch: ', 17000, 'loss =', 3.3249072e-12)\n",
      "('Epoch: ', 18000, 'loss =', 4.088237e-08)\n",
      "('Epoch: ', 19000, 'loss =', 2.4180216e-10)\n",
      "Optimization done\n"
     ]
    }
   ],
   "source": [
    "# Make an operation that initializes the variables\n",
    "init = tf.global_variables_initializer()\n",
    "\n",
    "x_test = np.linspace(0, 1, 100)[:, np.newaxis]\n",
    "y_value_list = []\n",
    "\n",
    "# Start a new session\n",
    "with tf.Session() as session:\n",
    "    # Initialize the values\n",
    "    session.run(init)\n",
    "    \n",
    "    # Training cycle\n",
    "    for epoch in range(20000):\n",
    "        _, loss_value = session.run([optimizer, loss], feed_dict={x: x_train, t: t_train, learning_rate: 0.001})\n",
    "        \n",
    "        if epoch % 1000 == 0:\n",
    "            print(\"Epoch: \", epoch, \"loss =\", loss_value)            \n",
    "            \n",
    "    print(\"Optimization done\")\n",
    "\n",
    "    # Make a prediction at the test points\n",
    "    y_test = session.run(y, feed_dict={x: x_test})"
   ]
  },
  {
   "cell_type": "code",
   "execution_count": 5,
   "metadata": {},
   "outputs": [
    {
     "data": {
      "image/png": "[encoded data removed]",
      "text/plain": [
       "<Figure size 432x288 with 1 Axes>"
      ]
     },
     "metadata": {
      "needs_background": "light"
     },
     "output_type": "display_data"
    }
   ],
   "source": [
    "fig, ax = plt.subplots()\n",
    "ax.plot(x_train, t_train, 'p', label=\"Training data\")\n",
    "\n",
    "ax.plot(x_test, y_test, label=\"Learn network\")\n",
    "\n",
    "ax.legend()\n",
    "ax.set_xlabel(r'$x$')\n",
    "ax.set_ylabel(r'$t$')\n",
    "plt.savefig(\"figures/regression-example.pdf\")"
   ]
  },
  {
   "cell_type": "code",
   "execution_count": null,
   "metadata": {},
   "outputs": [],
   "source": []
  }
 ],
 "metadata": {
  "kernelspec": {
   "display_name": "Python 2",
   "language": "python",
   "name": "python2"
  },
  "language_info": {
   "codemirror_mode": {
    "name": "ipython",
    "version": 2
   },
   "file_extension": ".py",
   "mimetype": "text/x-python",
   "name": "python",
   "nbconvert_exporter": "python",
   "pygments_lexer": "ipython2",
   "version": "2.7.16"
  }
 },
 "nbformat": 4,
 "nbformat_minor": 2
}
