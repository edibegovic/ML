{
 "cells": [
  {
   "cell_type": "markdown",
   "metadata": {},
   "source": [
    "# Lecture 6.1, notebook 3"
   ]
  },
  {
   "cell_type": "code",
   "execution_count": 1,
   "metadata": {},
   "outputs": [],
   "source": [
    "import numpy as np\n",
    "import tensorflow as tf\n",
    "import matplotlib.pyplot as plt\n",
    "%matplotlib inline"
   ]
  },
  {
   "cell_type": "code",
   "execution_count": 2,
   "metadata": {},
   "outputs": [],
   "source": [
    "x_train = np.array([0, 0.1, 0.2, 0.3, 0.4, 0.5, 0.6, 0.7, 0.8, 0.9, 1])\n",
    "t_train = np.array([0.15, -0.16, -0.61, -0.86, -1.02, -0.44, 0.16, 0.05, 0.45, 1.39, 0.86])\n",
    "\n",
    "# Make the data column vectors\n",
    "x_train = x_train[:, np.newaxis]\n",
    "t_train = t_train[:, np.newaxis]"
   ]
  },
  {
   "cell_type": "code",
   "execution_count": 3,
   "metadata": {},
   "outputs": [
    {
     "name": "stdout",
     "output_type": "stream",
     "text": [
      "WARNING:tensorflow:From /Users/sami/anaconda2/lib/python2.7/site-packages/tensorflow/python/ops/losses/losses_impl.py:121: where (from tensorflow.python.ops.array_ops) is deprecated and will be removed in a future version.\n",
      "Instructions for updating:\n",
      "Use tf.where in 2.0, which has the same broadcast rule as np.where\n"
     ]
    }
   ],
   "source": [
    "# Input and output\n",
    "x = tf.placeholder(tf.float32, [None, 1])\n",
    "t = tf.placeholder(tf.float32, [None, 1])\n",
    "\n",
    "# Defined the model parameters\n",
    "W1 = tf.get_variable(\"W1\", [1, 10], initializer=tf.random_normal_initializer)\n",
    "b1 = tf.get_variable(\"b1\", [10], initializer=tf.random_normal_initializer)\n",
    "W2 = tf.get_variable(\"W2\", [10, 1], initializer=tf.random_normal_initializer)\n",
    "b2 = tf.get_variable(\"b2\", [1], initializer=tf.random_normal_initializer)\n",
    "    \n",
    "# Construct model\n",
    "z1 = tf.nn.tanh(tf.matmul(x, W1) + b1)\n",
    "y = tf.matmul(z1, W2) + b2\n",
    "\n",
    "# Difine the loss function\n",
    "loss = tf.losses.mean_squared_error(labels=t, predictions=y)"
   ]
  },
  {
   "cell_type": "code",
   "execution_count": 4,
   "metadata": {},
   "outputs": [],
   "source": [
    "# Define the optimizer operation\n",
    "optimizer = tf.train.GradientDescentOptimizer(learning_rate = 0.001).minimize(loss)"
   ]
  },
  {
   "cell_type": "code",
   "execution_count": 5,
   "metadata": {},
   "outputs": [
    {
     "name": "stdout",
     "output_type": "stream",
     "text": [
      "('Epoch: ', 0, 'loss =', 18.4943)\n",
      "('Epoch: ', 1000, 'loss =', 0.32343355)\n",
      "('Epoch: ', 2000, 'loss =', 0.24298607)\n",
      "('Epoch: ', 3000, 'loss =', 0.2119415)\n",
      "('Epoch: ', 4000, 'loss =', 0.18747707)\n",
      "('Epoch: ', 5000, 'loss =', 0.16678117)\n",
      "('Epoch: ', 6000, 'loss =', 0.14936115)\n",
      "('Epoch: ', 7000, 'loss =', 0.13467832)\n",
      "('Epoch: ', 8000, 'loss =', 0.1222528)\n",
      "('Epoch: ', 9000, 'loss =', 0.11171534)\n",
      "Optimization done\n"
     ]
    }
   ],
   "source": [
    "# Make an operation that initializes the variables\n",
    "init = tf.global_variables_initializer()\n",
    "\n",
    "x_test = np.linspace(0, 1, 100)[:, np.newaxis]\n",
    "y_value_list = []\n",
    "\n",
    "# Start a new session\n",
    "with tf.Session() as session:\n",
    "    # Initialize the values\n",
    "    session.run(init)\n",
    "    \n",
    "    # Training cycle\n",
    "    for epoch in range(10000):\n",
    "        _, loss_value = session.run([optimizer, loss], feed_dict={x: x_train, t: t_train})\n",
    "        \n",
    "        if epoch % 1000 == 0:\n",
    "            print(\"Epoch: \", epoch, \"loss =\", loss_value)            \n",
    "            \n",
    "    print(\"Optimization done\")\n",
    "\n",
    "    # Make a prediction at the test points\n",
    "    y_test = session.run(y, feed_dict={x: x_test})"
   ]
  },
  {
   "cell_type": "code",
   "execution_count": 6,
   "metadata": {},
   "outputs": [
    {
     "data": {
      "image/png": "[encoded data removed]",
      "text/plain": [
       "<Figure size 432x288 with 1 Axes>"
      ]
     },
     "metadata": {
      "needs_background": "light"
     },
     "output_type": "display_data"
    }
   ],
   "source": [
    "fig, ax = plt.subplots()\n",
    "ax.plot(x_train, t_train, 'p', label=\"Training data\")\n",
    "\n",
    "ax.plot(x_test, y_test, label=\"Learn network\")\n",
    "\n",
    "ax.legend()\n",
    "ax.set_xlabel(r'$x$')\n",
    "ax.set_ylabel(r'$t$')\n",
    "plt.savefig(\"figures/regression-example.pdf\")"
   ]
  },
  {
   "cell_type": "code",
   "execution_count": null,
   "metadata": {},
   "outputs": [],
   "source": []
  }
 ],
 "metadata": {
  "kernelspec": {
   "display_name": "Python 2",
   "language": "python",
   "name": "python2"
  },
  "language_info": {
   "codemirror_mode": {
    "name": "ipython",
    "version": 2
   },
   "file_extension": ".py",
   "mimetype": "text/x-python",
   "name": "python",
   "nbconvert_exporter": "python",
   "pygments_lexer": "ipython2",
   "version": "2.7.16"
  }
 },
 "nbformat": 4,
 "nbformat_minor": 2
}
